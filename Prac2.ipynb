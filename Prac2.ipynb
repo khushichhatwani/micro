{
 "cells": [
  {
   "cell_type": "markdown",
   "id": "299c1a81",
   "metadata": {},
   "source": [
    "# Write programs in Python using NumPy library to do the following:\n",
    "    \n",
    "A->Compute the mean, standard deviation, and variance of a two dimensional random integer array\n",
    "along the second axis.\n",
    "<br/>\n",
    "B-> Get the indices of the sorted elements of a given array.\n",
    " B = [56, 48, 22, 41, 78, 91, 24, 46, 8, 33]\n",
    " <br/>\n",
    "C-> Create a 2-dimensional array of size m x n integer elements, also print the shape, type and data\n",
    "type of the array and then reshape it into nx m array, n and m are user inputs given at the run time.\n",
    "<br/>\n",
    "D-> Test whether the elements of a given array are zero, non-zero and NaN. Record the indices of\n",
    "these elements in three separate arrays."
   ]
  },
  {
   "cell_type": "code",
   "execution_count": 1,
   "id": "e1008762",
   "metadata": {},
   "outputs": [],
   "source": [
    "import numpy as np"
   ]
  },
  {
   "cell_type": "markdown",
   "id": "87924044",
   "metadata": {},
   "source": [
    "# A-> \n",
    "**Compute the mean, standard deviation, and variance of a two dimensional random integer array along the second axis.**"
   ]
  },
  {
   "cell_type": "code",
   "execution_count": 3,
   "id": "385a01bb",
   "metadata": {},
   "outputs": [],
   "source": [
    "a=np.linspace(10,100,num=15,dtype=int).reshape(3,5)"
   ]
  },
  {
   "cell_type": "markdown",
   "id": "62b7a89c",
   "metadata": {},
   "source": [
    "**2d ARRAY**"
   ]
  },
  {
   "cell_type": "code",
   "execution_count": 4,
   "id": "3726e0a1",
   "metadata": {},
   "outputs": [
    {
     "data": {
      "text/plain": [
       "array([[ 10,  16,  22,  29,  35],\n",
       "       [ 42,  48,  55,  61,  67],\n",
       "       [ 74,  80,  87,  93, 100]])"
      ]
     },
     "execution_count": 4,
     "metadata": {},
     "output_type": "execute_result"
    }
   ],
   "source": [
    "a"
   ]
  },
  {
   "cell_type": "markdown",
   "id": "37410d4d",
   "metadata": {},
   "source": [
    "**MEAN**"
   ]
  },
  {
   "cell_type": "code",
   "execution_count": 15,
   "id": "8178f986",
   "metadata": {},
   "outputs": [
    {
     "data": {
      "text/plain": [
       "array([42. , 48. , 54.7, 61. , 67.3])"
      ]
     },
     "execution_count": 15,
     "metadata": {},
     "output_type": "execute_result"
    }
   ],
   "source": [
    "np.mean(a,axis=0).round(1)"
   ]
  },
  {
   "cell_type": "markdown",
   "id": "f0e8d59b",
   "metadata": {},
   "source": [
    "<strong>Standard Deviation</strong>"
   ]
  },
  {
   "cell_type": "code",
   "execution_count": 21,
   "id": "490e36a0",
   "metadata": {},
   "outputs": [
    {
     "data": {
      "text/plain": [
       "array([26.128, 26.128, 26.537, 26.128, 26.537])"
      ]
     },
     "execution_count": 21,
     "metadata": {},
     "output_type": "execute_result"
    }
   ],
   "source": [
    "np.std(a,axis=0).round(3)"
   ]
  },
  {
   "cell_type": "markdown",
   "id": "6a079f68",
   "metadata": {},
   "source": [
    "<strong>Variance</stromg>"
   ]
  },
  {
   "cell_type": "code",
   "execution_count": 22,
   "id": "bc8fb6c2",
   "metadata": {},
   "outputs": [
    {
     "data": {
      "text/plain": [
       "array([682.667, 682.667, 704.222, 682.667, 704.222])"
      ]
     },
     "execution_count": 22,
     "metadata": {},
     "output_type": "execute_result"
    }
   ],
   "source": [
    "np.var(a,axis=0).round(3)"
   ]
  },
  {
   "cell_type": "markdown",
   "id": "6ea3e254",
   "metadata": {},
   "source": [
    "# B ->\n",
    "**Get the indices of the sorted elements of a given array. B = [56, 48, 22, 41, 78, 91, 24, 46, 8, 33]**\n"
   ]
  },
  {
   "cell_type": "code",
   "execution_count": 36,
   "id": "77287cf5",
   "metadata": {},
   "outputs": [],
   "source": [
    "b=[56, 48, 22, 41, 78, 91, 24, 46, 8, 33]"
   ]
  },
  {
   "cell_type": "code",
   "execution_count": 37,
   "id": "85aff758",
   "metadata": {},
   "outputs": [],
   "source": [
    "b=np.array(b)"
   ]
  },
  {
   "cell_type": "code",
   "execution_count": 38,
   "id": "c7818e57",
   "metadata": {},
   "outputs": [
    {
     "data": {
      "text/plain": [
       "array([56, 48, 22, 41, 78, 91, 24, 46,  8, 33])"
      ]
     },
     "execution_count": 38,
     "metadata": {},
     "output_type": "execute_result"
    }
   ],
   "source": [
    "b"
   ]
  },
  {
   "cell_type": "code",
   "execution_count": 54,
   "id": "113bbcfe",
   "metadata": {},
   "outputs": [
    {
     "data": {
      "text/plain": [
       "array([8, 2, 6, 9, 3, 7, 1, 0, 4, 5])"
      ]
     },
     "execution_count": 54,
     "metadata": {},
     "output_type": "execute_result"
    }
   ],
   "source": [
    "b.argsort(axis=-1)"
   ]
  },
  {
   "cell_type": "code",
   "execution_count": null,
   "id": "ab14070a",
   "metadata": {},
   "outputs": [],
   "source": []
  },
  {
   "cell_type": "markdown",
   "id": "ed842b15",
   "metadata": {},
   "source": [
    "# C->\n",
    "**Create a 2-dimensional array of size m x n integer elements, also print the shape, type and data type of the array and then reshape it into nx m array, n and m are user inputs given at the run time.**\n",
    "\n"
   ]
  },
  {
   "cell_type": "code",
   "execution_count": 72,
   "id": "306db9eb",
   "metadata": {},
   "outputs": [
    {
     "name": "stdout",
     "output_type": "stream",
     "text": [
      "Enter number of rows: 5\n",
      "rows-> 5\n",
      "Enter number of cols: 3\n",
      "cols-> 3\n"
     ]
    }
   ],
   "source": [
    "row = input(\"Enter number of rows: \")\n",
    "print(\"rows->\",row)\n",
    "col = input(\"Enter number of cols: \")\n",
    "print(\"cols->\",col)"
   ]
  },
  {
   "cell_type": "code",
   "execution_count": 74,
   "id": "8c29e8a0",
   "metadata": {},
   "outputs": [],
   "source": [
    "row=int(row)"
   ]
  },
  {
   "cell_type": "code",
   "execution_count": 76,
   "id": "5b7d9627",
   "metadata": {},
   "outputs": [],
   "source": [
    "col=int(col)"
   ]
  },
  {
   "cell_type": "code",
   "execution_count": 77,
   "id": "95124617",
   "metadata": {},
   "outputs": [],
   "source": [
    "a=np.linspace(10,100,num=15,dtype=int).reshape(row,col)"
   ]
  },
  {
   "cell_type": "code",
   "execution_count": 78,
   "id": "ad66a23a",
   "metadata": {},
   "outputs": [
    {
     "data": {
      "text/plain": [
       "array([[ 10,  16,  22],\n",
       "       [ 29,  35,  42],\n",
       "       [ 48,  55,  61],\n",
       "       [ 67,  74,  80],\n",
       "       [ 87,  93, 100]])"
      ]
     },
     "execution_count": 78,
     "metadata": {},
     "output_type": "execute_result"
    }
   ],
   "source": [
    "a"
   ]
  },
  {
   "cell_type": "code",
   "execution_count": 79,
   "id": "0c965377",
   "metadata": {},
   "outputs": [
    {
     "data": {
      "text/plain": [
       "(5, 3)"
      ]
     },
     "execution_count": 79,
     "metadata": {},
     "output_type": "execute_result"
    }
   ],
   "source": [
    "#shape\n",
    "a.shape"
   ]
  },
  {
   "cell_type": "code",
   "execution_count": 80,
   "id": "09c55f4b",
   "metadata": {},
   "outputs": [
    {
     "data": {
      "text/plain": [
       "dtype('int64')"
      ]
     },
     "execution_count": 80,
     "metadata": {},
     "output_type": "execute_result"
    }
   ],
   "source": [
    "#data type\n",
    "a.dtype"
   ]
  },
  {
   "cell_type": "code",
   "execution_count": 81,
   "id": "f28c1838",
   "metadata": {},
   "outputs": [
    {
     "data": {
      "text/plain": [
       "numpy.ndarray"
      ]
     },
     "execution_count": 81,
     "metadata": {},
     "output_type": "execute_result"
    }
   ],
   "source": [
    "#type of array\n",
    "type(a)"
   ]
  },
  {
   "cell_type": "code",
   "execution_count": 82,
   "id": "f7469ced",
   "metadata": {},
   "outputs": [
    {
     "data": {
      "text/plain": [
       "array([[ 10,  16,  22,  29,  35],\n",
       "       [ 42,  48,  55,  61,  67],\n",
       "       [ 74,  80,  87,  93, 100]])"
      ]
     },
     "execution_count": 82,
     "metadata": {},
     "output_type": "execute_result"
    }
   ],
   "source": [
    "a.reshape(col,row)"
   ]
  },
  {
   "cell_type": "code",
   "execution_count": 83,
   "id": "a7bf0fe8",
   "metadata": {},
   "outputs": [
    {
     "data": {
      "text/plain": [
       "array([[ 10,  29,  48,  67,  87],\n",
       "       [ 16,  35,  55,  74,  93],\n",
       "       [ 22,  42,  61,  80, 100]])"
      ]
     },
     "execution_count": 83,
     "metadata": {},
     "output_type": "execute_result"
    }
   ],
   "source": [
    "a.T"
   ]
  },
  {
   "cell_type": "code",
   "execution_count": null,
   "id": "79d64be2",
   "metadata": {},
   "outputs": [],
   "source": []
  },
  {
   "cell_type": "code",
   "execution_count": null,
   "id": "926ca035",
   "metadata": {},
   "outputs": [],
   "source": []
  },
  {
   "cell_type": "markdown",
   "id": "15623026",
   "metadata": {},
   "source": [
    "# D->\n",
    "**Test whether the elements of a given array are zero, non-zero and NaN. Record the indices of\n",
    "these elements in three separate arrays.**"
   ]
  },
  {
   "cell_type": "code",
   "execution_count": 96,
   "id": "36dcc879",
   "metadata": {},
   "outputs": [
    {
     "data": {
      "text/plain": [
       "0.02"
      ]
     },
     "execution_count": 96,
     "metadata": {},
     "output_type": "execute_result"
    }
   ],
   "source": [
    "0.1/5\n"
   ]
  },
  {
   "cell_type": "code",
   "execution_count": 120,
   "id": "e1f66966",
   "metadata": {},
   "outputs": [
    {
     "data": {
      "text/plain": [
       "array([[nan, 15., nan, nan, 15.],\n",
       "       [nan,  0., nan, nan, nan],\n",
       "       [nan, nan,  0.,  0.,  0.],\n",
       "       [nan,  0.,  0.,  0., 15.],\n",
       "       [15., 15., 15., nan, nan]])"
      ]
     },
     "execution_count": 120,
     "metadata": {},
     "output_type": "execute_result"
    }
   ],
   "source": [
    "arr=np.random.choice([np.nan,0,15], size=25, replace=True,p=[0.4,0.4,0.2]).reshape(5,5)\n",
    "arr"
   ]
  },
  {
   "cell_type": "code",
   "execution_count": 127,
   "id": "b8093e52",
   "metadata": {},
   "outputs": [
    {
     "data": {
      "text/plain": [
       "array([[ True, False,  True,  True, False],\n",
       "       [ True, False,  True,  True,  True],\n",
       "       [ True,  True, False, False, False],\n",
       "       [ True, False, False, False, False],\n",
       "       [False, False, False,  True,  True]])"
      ]
     },
     "execution_count": 127,
     "metadata": {},
     "output_type": "execute_result"
    }
   ],
   "source": [
    "np.isnan(arr)"
   ]
  },
  {
   "cell_type": "code",
   "execution_count": 123,
   "id": "3d4d0619",
   "metadata": {},
   "outputs": [
    {
     "data": {
      "text/plain": [
       "array([[0, 0],\n",
       "       [0, 2],\n",
       "       [0, 3],\n",
       "       [1, 0],\n",
       "       [1, 2],\n",
       "       [1, 3],\n",
       "       [1, 4],\n",
       "       [2, 0],\n",
       "       [2, 1],\n",
       "       [3, 0],\n",
       "       [4, 3],\n",
       "       [4, 4]])"
      ]
     },
     "execution_count": 123,
     "metadata": {},
     "output_type": "execute_result"
    }
   ],
   "source": [
    "np.argwhere(np.isnan(arr))"
   ]
  },
  {
   "cell_type": "code",
   "execution_count": 124,
   "id": "62f329ef",
   "metadata": {},
   "outputs": [
    {
     "data": {
      "text/plain": [
       "array([[1, 1],\n",
       "       [2, 2],\n",
       "       [2, 3],\n",
       "       [2, 4],\n",
       "       [3, 1],\n",
       "       [3, 2],\n",
       "       [3, 3]])"
      ]
     },
     "execution_count": 124,
     "metadata": {},
     "output_type": "execute_result"
    }
   ],
   "source": [
    "np.argwhere(arr==0)"
   ]
  },
  {
   "cell_type": "code",
   "execution_count": 133,
   "id": "04b4b8a4",
   "metadata": {},
   "outputs": [
    {
     "data": {
      "text/plain": [
       "array([[0, 1],\n",
       "       [0, 4],\n",
       "       [3, 4],\n",
       "       [4, 0],\n",
       "       [4, 1],\n",
       "       [4, 2]])"
      ]
     },
     "execution_count": 133,
     "metadata": {},
     "output_type": "execute_result"
    }
   ],
   "source": [
    "np.argwhere((np.isnan(arr)==False) & (arr!=0))"
   ]
  },
  {
   "cell_type": "code",
   "execution_count": null,
   "id": "2a2e6bf6",
   "metadata": {},
   "outputs": [],
   "source": []
  }
 ],
 "metadata": {
  "kernelspec": {
   "display_name": "Python 3 (ipykernel)",
   "language": "python",
   "name": "python3"
  },
  "language_info": {
   "codemirror_mode": {
    "name": "ipython",
    "version": 3
   },
   "file_extension": ".py",
   "mimetype": "text/x-python",
   "name": "python",
   "nbconvert_exporter": "python",
   "pygments_lexer": "ipython3",
   "version": "3.10.9"
  }
 },
 "nbformat": 4,
 "nbformat_minor": 5
}
